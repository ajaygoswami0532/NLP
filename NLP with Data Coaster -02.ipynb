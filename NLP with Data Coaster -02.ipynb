{
 "cells": [
  {
   "cell_type": "markdown",
   "metadata": {},
   "source": [
    "- Tokenizing\n",
    "- vocab\n",
    "- chunking\n",
    "- display"
   ]
  },
  {
   "cell_type": "markdown",
   "metadata": {},
   "source": [
    "## TOKENIZING"
   ]
  },
  {
   "cell_type": "markdown",
   "metadata": {},
   "source": [
    "Given a character sequence and a defined document unit, tokenization is the task of chopping it up into pieces, called tokens , perhaps at the same time throwing away certain characters, such as punctuation."
   ]
  },
  {
   "cell_type": "code",
   "execution_count": 2,
   "metadata": {},
   "outputs": [],
   "source": [
    "import spacy\n",
    "nlp = spacy.load(\"en_core_web_sm\")"
   ]
  },
  {
   "cell_type": "code",
   "execution_count": 3,
   "metadata": {},
   "outputs": [],
   "source": [
    "txt = \"\"\"I am Ajay Goswami. If you want a playlist of any new technology, mail me at mail - ajay.goswami0532@gmail.com.\n",
    "        There is learning cost INR - 00 for learning now a days. Go to my channel https://www.youtube.com/channel/UCuP52iVtoAbwUjo6M5DHkDA?view_as=subscriber \"\"\""
   ]
  },
  {
   "cell_type": "code",
   "execution_count": 4,
   "metadata": {},
   "outputs": [
    {
     "data": {
      "text/plain": [
       "'I am Ajay Goswami. If you want a playlist of any new technology, mail me at mail - ajay.goswami0532@gmail.com.\\n        There is learning cost INR - 00 for learning now a days. Go to my channel https://www.youtube.com/channel/UCuP52iVtoAbwUjo6M5DHkDA?view_as=subscriber '"
      ]
     },
     "execution_count": 4,
     "metadata": {},
     "output_type": "execute_result"
    }
   ],
   "source": [
    "txt"
   ]
  },
  {
   "cell_type": "code",
   "execution_count": 5,
   "metadata": {},
   "outputs": [],
   "source": [
    "txt = nlp(txt)"
   ]
  },
  {
   "cell_type": "code",
   "execution_count": 6,
   "metadata": {},
   "outputs": [
    {
     "name": "stdout",
     "output_type": "stream",
     "text": [
      "I\n",
      "am\n",
      "Ajay\n",
      "Goswami\n",
      ".\n",
      "If\n",
      "you\n",
      "want\n",
      "a\n",
      "playlist\n",
      "of\n",
      "any\n",
      "new\n",
      "technology\n",
      ",\n",
      "mail\n",
      "me\n",
      "at\n",
      "mail\n",
      "-\n",
      "ajay.goswami0532@gmail.com\n",
      ".\n",
      "\n",
      "        \n",
      "There\n",
      "is\n",
      "learning\n",
      "cost\n",
      "INR\n",
      "-\n",
      "00\n",
      "for\n",
      "learning\n",
      "now\n",
      "a\n",
      "days\n",
      ".\n",
      "Go\n",
      "to\n",
      "my\n",
      "channel\n",
      "https://www.youtube.com/channel/UCuP52iVtoAbwUjo6M5DHkDA?view_as=subscriber\n"
     ]
    }
   ],
   "source": [
    "#for fetching tokens from text\n",
    "for token in txt:\n",
    "    print(token.text)"
   ]
  },
  {
   "cell_type": "code",
   "execution_count": 7,
   "metadata": {},
   "outputs": [
    {
     "name": "stdout",
     "output_type": "stream",
     "text": [
      "I | am | Ajay | Goswami | . | If | you | want | a | playlist | of | any | new | technology | , | mail | me | at | mail | - | ajay.goswami0532@gmail.com | . | \n",
      "         | There | is | learning | cost | INR | - | 00 | for | learning | now | a | days | . | Go | to | my | channel | https://www.youtube.com/channel/UCuP52iVtoAbwUjo6M5DHkDA?view_as=subscriber | "
     ]
    }
   ],
   "source": [
    "for token in txt:\n",
    "    print(token.text,end=\" | \")"
   ]
  },
  {
   "cell_type": "code",
   "execution_count": 8,
   "metadata": {},
   "outputs": [
    {
     "data": {
      "text/plain": [
       "41"
      ]
     },
     "execution_count": 8,
     "metadata": {},
     "output_type": "execute_result"
    }
   ],
   "source": [
    "len(txt)"
   ]
  },
  {
   "cell_type": "markdown",
   "metadata": {},
   "source": [
    "## Vocab"
   ]
  },
  {
   "cell_type": "code",
   "execution_count": 10,
   "metadata": {
    "collapsed": true
   },
   "outputs": [
    {
     "data": {
      "text/plain": [
       "['\"\"',\n",
       " '#',\n",
       " '$',\n",
       " \"''\",\n",
       " ',',\n",
       " '-LRB-',\n",
       " '-RRB-',\n",
       " '.',\n",
       " ':',\n",
       " 'ADD',\n",
       " 'AFX',\n",
       " 'BES',\n",
       " 'CC',\n",
       " 'CD',\n",
       " 'DT',\n",
       " 'EX',\n",
       " 'FW',\n",
       " 'GW',\n",
       " 'HVS',\n",
       " 'HYPH',\n",
       " 'IN',\n",
       " 'JJ',\n",
       " 'JJR',\n",
       " 'JJS',\n",
       " 'LS',\n",
       " 'MD',\n",
       " 'NFP',\n",
       " 'NIL',\n",
       " 'NN',\n",
       " 'NNP',\n",
       " 'NNPS',\n",
       " 'NNS',\n",
       " 'PDT',\n",
       " 'PRP',\n",
       " 'PRP$',\n",
       " 'RB',\n",
       " 'RBR',\n",
       " 'RBS',\n",
       " 'RP',\n",
       " 'SP',\n",
       " 'TO',\n",
       " 'UH',\n",
       " 'VB',\n",
       " 'VBD',\n",
       " 'VBG',\n",
       " 'VBN',\n",
       " 'VBP',\n",
       " 'VBZ',\n",
       " 'WDT',\n",
       " 'WP',\n",
       " 'WP$',\n",
       " 'WRB',\n",
       " 'XX',\n",
       " '_SP',\n",
       " '``',\n",
       " 'that',\n",
       " 'if',\n",
       " 'as',\n",
       " 'because',\n",
       " 'while',\n",
       " 'since',\n",
       " 'like',\n",
       " 'so',\n",
       " 'than',\n",
       " 'whether',\n",
       " 'although',\n",
       " 'though',\n",
       " 'unless',\n",
       " 'once',\n",
       " 'cause',\n",
       " 'upon',\n",
       " 'till',\n",
       " 'whereas',\n",
       " 'whilst',\n",
       " 'except',\n",
       " 'despite',\n",
       " 'wether',\n",
       " 'but',\n",
       " 'becuse',\n",
       " 'whie',\n",
       " 'it',\n",
       " 'w/out',\n",
       " 'albeit',\n",
       " 'save',\n",
       " 'besides',\n",
       " 'becouse',\n",
       " 'coz',\n",
       " 'til',\n",
       " 'ask',\n",
       " \"i'd\",\n",
       " 'out',\n",
       " 'near',\n",
       " 'seince',\n",
       " 'tho',\n",
       " 'sice',\n",
       " 'will',\n",
       " 'That',\n",
       " 'If',\n",
       " 'As',\n",
       " 'Because',\n",
       " 'While',\n",
       " 'Since',\n",
       " 'Like',\n",
       " 'So',\n",
       " 'Than',\n",
       " 'Whether',\n",
       " 'Although',\n",
       " 'Though',\n",
       " 'Unless',\n",
       " 'Once',\n",
       " 'Cause',\n",
       " 'Upon',\n",
       " 'Till',\n",
       " 'Whereas',\n",
       " 'Whilst',\n",
       " 'Except',\n",
       " 'Despite',\n",
       " 'Wether',\n",
       " 'But',\n",
       " 'Becuse',\n",
       " 'Whie',\n",
       " 'It',\n",
       " 'W/Out',\n",
       " 'Albeit',\n",
       " 'Save',\n",
       " 'Besides',\n",
       " 'Becouse',\n",
       " 'Coz',\n",
       " 'Til',\n",
       " 'Ask',\n",
       " \"I'D\",\n",
       " 'Out',\n",
       " 'Near',\n",
       " 'Seince',\n",
       " 'Tho',\n",
       " 'Sice',\n",
       " 'Will',\n",
       " 'something',\n",
       " 'anyone',\n",
       " 'anything',\n",
       " 'nothing',\n",
       " 'someone',\n",
       " 'everything',\n",
       " 'everyone',\n",
       " 'everybody',\n",
       " 'nobody',\n",
       " 'somebody',\n",
       " 'anybody',\n",
       " 'any1',\n",
       " 'Something',\n",
       " 'Anyone',\n",
       " 'Anything',\n",
       " 'Nothing',\n",
       " 'Someone',\n",
       " 'Everything',\n",
       " 'Everyone',\n",
       " 'Everybody',\n",
       " 'Nobody',\n",
       " 'Somebody',\n",
       " 'Anybody',\n",
       " 'Any1',\n",
       " '-PRON-',\n",
       " 'I',\n",
       " 'me',\n",
       " 'you',\n",
       " 'he',\n",
       " 'him',\n",
       " 'she',\n",
       " 'her',\n",
       " 'we',\n",
       " 'us',\n",
       " 'they',\n",
       " 'them',\n",
       " 'mine',\n",
       " 'his',\n",
       " 'hers',\n",
       " 'its',\n",
       " 'ours',\n",
       " 'yours',\n",
       " 'theirs',\n",
       " 'myself',\n",
       " 'yourself',\n",
       " 'himself',\n",
       " 'herself',\n",
       " 'itself',\n",
       " 'themself',\n",
       " 'ourselves',\n",
       " 'yourselves',\n",
       " 'themselves',\n",
       " 'Me',\n",
       " 'You',\n",
       " 'He',\n",
       " 'Him',\n",
       " 'She',\n",
       " 'Her',\n",
       " 'We',\n",
       " 'Us',\n",
       " 'They',\n",
       " 'Them',\n",
       " 'Mine',\n",
       " 'His',\n",
       " 'Hers',\n",
       " 'Its',\n",
       " 'Ours',\n",
       " 'Yours',\n",
       " 'Theirs',\n",
       " 'Myself',\n",
       " 'Yourself',\n",
       " 'Himself',\n",
       " 'Herself',\n",
       " 'Itself',\n",
       " 'Themself',\n",
       " 'Ourselves',\n",
       " 'Yourselves',\n",
       " 'Themselves',\n",
       " 'my',\n",
       " 'your',\n",
       " 'our',\n",
       " 'their',\n",
       " 'My',\n",
       " 'Your',\n",
       " 'Our',\n",
       " 'Their',\n",
       " 'not',\n",
       " \"n't\",\n",
       " 'nt',\n",
       " 'n’t',\n",
       " 'Not',\n",
       " \"N'T\",\n",
       " 'Nt',\n",
       " 'N’T',\n",
       " 'be',\n",
       " 'have',\n",
       " 'do',\n",
       " 'get',\n",
       " 'of',\n",
       " 'am',\n",
       " 'are',\n",
       " \"'ve\",\n",
       " 'Be',\n",
       " 'Have',\n",
       " 'Do',\n",
       " 'Get',\n",
       " 'Of',\n",
       " 'Am',\n",
       " 'Are',\n",
       " \"'Ve\",\n",
       " 'been',\n",
       " 'Been',\n",
       " 'being',\n",
       " 'Being',\n",
       " 'is',\n",
       " \"'re\",\n",
       " \"'s\",\n",
       " 'has',\n",
       " 'does',\n",
       " 'Is',\n",
       " \"'Re\",\n",
       " \"'S\",\n",
       " 'Has',\n",
       " 'Does',\n",
       " \"'m\",\n",
       " \"'d\",\n",
       " \"'M\",\n",
       " \"'D\",\n",
       " 'was',\n",
       " 'were',\n",
       " 'did',\n",
       " 'had',\n",
       " 'Was',\n",
       " 'Were',\n",
       " 'Did',\n",
       " 'Had',\n",
       " '\\t',\n",
       " 'en',\n",
       " '\\n',\n",
       " ' ',\n",
       " '\")',\n",
       " '\"',\n",
       " \"'\",\n",
       " \"'Cause\",\n",
       " \"'cause\",\n",
       " 'use',\n",
       " \"'Xxxxx\",\n",
       " \"'Cos\",\n",
       " \"'cos\",\n",
       " 'Cos',\n",
       " \"'Xxx\",\n",
       " \"'Coz\",\n",
       " \"'coz\",\n",
       " \"'Cuz\",\n",
       " \"'cuz\",\n",
       " 'Cuz',\n",
       " \"'X\",\n",
       " \"'bout\",\n",
       " 'about',\n",
       " \"'xxxx\",\n",
       " 'cos',\n",
       " \"'xxx\",\n",
       " 'cuz',\n",
       " \"'x\",\n",
       " \"'em\",\n",
       " \"'xx\",\n",
       " \"'ll\",\n",
       " \"'nuff\",\n",
       " 'enough',\n",
       " 'uff',\n",
       " '(*_*)',\n",
       " '(',\n",
       " '_*)',\n",
       " '(-8',\n",
       " '(-d',\n",
       " '(-:',\n",
       " '(-;',\n",
       " '(-_-)',\n",
       " '_-)',\n",
       " '(._.)',\n",
       " '_.)',\n",
       " '(:',\n",
       " '(;',\n",
       " '(=',\n",
       " '(>_<)',\n",
       " '_<)',\n",
       " '(^_^)',\n",
       " '_^)',\n",
       " '(o:',\n",
       " '(x:',\n",
       " '(¬_¬)',\n",
       " '_¬)',\n",
       " '(ಠ_ಠ)',\n",
       " '_ಠ)',\n",
       " '(x_x)',\n",
       " '(╯°□°）╯︵┻━┻',\n",
       " '┻━┻',\n",
       " ')-:',\n",
       " ')',\n",
       " '):',\n",
       " '-_-',\n",
       " '-',\n",
       " '-__-',\n",
       " '__-',\n",
       " '._.',\n",
       " '0.0',\n",
       " '0',\n",
       " 'd.d',\n",
       " '0.o',\n",
       " 'd.x',\n",
       " '0_0',\n",
       " 'd_d',\n",
       " '0_o',\n",
       " 'd_x',\n",
       " '10',\n",
       " '1',\n",
       " 'dd',\n",
       " 'a.m.',\n",
       " 'a',\n",
       " '.m.',\n",
       " 'x.x.',\n",
       " 'xx',\n",
       " 'p.m.',\n",
       " 'p',\n",
       " 'pm',\n",
       " '11',\n",
       " '12',\n",
       " 'd',\n",
       " '2',\n",
       " '3',\n",
       " '4',\n",
       " '5',\n",
       " '6',\n",
       " '7',\n",
       " '8)',\n",
       " '8',\n",
       " 'd)',\n",
       " '8-)',\n",
       " 'd-)',\n",
       " '8-D',\n",
       " '8-d',\n",
       " 'd-X',\n",
       " '8D',\n",
       " '8d',\n",
       " 'dX',\n",
       " '9',\n",
       " \":'(\",\n",
       " \":')\",\n",
       " \":'-(\",\n",
       " \"'-(\",\n",
       " \":'-)\",\n",
       " \"'-)\",\n",
       " ':(',\n",
       " ':((',\n",
       " ':(((',\n",
       " '(((',\n",
       " ':()',\n",
       " ':)',\n",
       " ':))',\n",
       " ':)))',\n",
       " ')))',\n",
       " ':*',\n",
       " ':-(',\n",
       " ':-((',\n",
       " '-((',\n",
       " ':-(((',\n",
       " ':-)',\n",
       " ':-))',\n",
       " '-))',\n",
       " ':-)))',\n",
       " ':-*',\n",
       " ':-/',\n",
       " ':-0',\n",
       " ':-d',\n",
       " ':-3',\n",
       " ':->',\n",
       " ':-D',\n",
       " ':-X',\n",
       " ':-O',\n",
       " ':-o',\n",
       " ':-P',\n",
       " ':-p',\n",
       " ':-x',\n",
       " ':-]',\n",
       " ':-|',\n",
       " ':-}',\n",
       " ':/',\n",
       " ':0',\n",
       " ':d',\n",
       " ':1',\n",
       " ':3',\n",
       " ':>',\n",
       " ':D',\n",
       " ':X',\n",
       " ':O',\n",
       " ':o',\n",
       " ':P',\n",
       " ':p',\n",
       " ':x',\n",
       " ':]',\n",
       " ':o)',\n",
       " ':x)',\n",
       " ':|',\n",
       " ':}',\n",
       " ':’(',\n",
       " ':’)',\n",
       " ':’-(',\n",
       " '’-(',\n",
       " ':’-)',\n",
       " '’-)',\n",
       " ';)',\n",
       " ';',\n",
       " ';-)',\n",
       " ';-D',\n",
       " ';-d',\n",
       " ';-X',\n",
       " ';D',\n",
       " ';d',\n",
       " ';X',\n",
       " ';_;',\n",
       " '<.<',\n",
       " '<',\n",
       " '</3',\n",
       " '</d',\n",
       " '<3',\n",
       " '<d',\n",
       " '<33',\n",
       " '<dd',\n",
       " '<333',\n",
       " '333',\n",
       " '<ddd',\n",
       " '<space>',\n",
       " 'ce>',\n",
       " '<xxxx>',\n",
       " '=(',\n",
       " '=',\n",
       " '=)',\n",
       " '=/',\n",
       " '=3',\n",
       " '=d',\n",
       " '=D',\n",
       " '=X',\n",
       " '=|',\n",
       " '>.<',\n",
       " '>',\n",
       " '>.>',\n",
       " '>:(',\n",
       " '>:o',\n",
       " '>:x',\n",
       " '><(((*>',\n",
       " '(*>',\n",
       " '@_@',\n",
       " '@',\n",
       " 'Adm.',\n",
       " 'adm.',\n",
       " 'A',\n",
       " 'dm.',\n",
       " 'Xxx.',\n",
       " 'Ai',\n",
       " 'ai',\n",
       " 'Xx',\n",
       " 'n',\n",
       " \"x'x\",\n",
       " 'x’x',\n",
       " 'Ak.',\n",
       " 'Alaska',\n",
       " 'ak.',\n",
       " 'Xx.',\n",
       " 'Ala.',\n",
       " 'Alabama',\n",
       " 'ala.',\n",
       " 'la.',\n",
       " 'Apr.',\n",
       " 'April',\n",
       " 'apr.',\n",
       " 'pr.',\n",
       " 'Xxx',\n",
       " 'Ariz.',\n",
       " 'Arizona',\n",
       " 'ariz.',\n",
       " 'iz.',\n",
       " 'Xxxx.',\n",
       " 'Ark.',\n",
       " 'Arkansas',\n",
       " 'ark.',\n",
       " 'rk.',\n",
       " 'Aug.',\n",
       " 'August',\n",
       " 'aug.',\n",
       " 'ug.',\n",
       " 'Bros.',\n",
       " 'bros.',\n",
       " 'B',\n",
       " 'os.',\n",
       " 'C++',\n",
       " 'c++',\n",
       " 'C',\n",
       " 'X++',\n",
       " 'Calif.',\n",
       " 'California',\n",
       " 'calif.',\n",
       " 'if.',\n",
       " 'Xxxxx.',\n",
       " 'Ca',\n",
       " 'can',\n",
       " 'ca',\n",
       " 'Can',\n",
       " 'xxx',\n",
       " 've',\n",
       " 'v',\n",
       " '’ve',\n",
       " '’',\n",
       " '’xx',\n",
       " 'Co.',\n",
       " 'co.',\n",
       " 'Colo.',\n",
       " 'Colorado',\n",
       " 'colo.',\n",
       " 'lo.',\n",
       " 'Conn.',\n",
       " 'Connecticut',\n",
       " 'conn.',\n",
       " 'nn.',\n",
       " 'Corp.',\n",
       " 'corp.',\n",
       " 'rp.',\n",
       " 'Could',\n",
       " 'could',\n",
       " 'uld',\n",
       " 'Xxxxx',\n",
       " 'D.C.',\n",
       " 'd.c.',\n",
       " 'D',\n",
       " '.C.',\n",
       " 'X.X.',\n",
       " 'Dare',\n",
       " 'dare',\n",
       " 'Xxxx',\n",
       " 'Dec.',\n",
       " 'December',\n",
       " 'dec.',\n",
       " 'ec.',\n",
       " 'Del.',\n",
       " 'Delaware',\n",
       " 'del.',\n",
       " 'el.',\n",
       " 'oes',\n",
       " 'Doin',\n",
       " 'doing',\n",
       " 'doin',\n",
       " 'oin',\n",
       " \"Doin'\",\n",
       " \"doin'\",\n",
       " \"in'\",\n",
       " \"Xxxx'\",\n",
       " 'Doin’',\n",
       " 'doin’',\n",
       " 'in’',\n",
       " 'Xxxx’',\n",
       " 'Dr.',\n",
       " 'dr.',\n",
       " 'E.G.',\n",
       " 'e.g.',\n",
       " 'E',\n",
       " '.G.',\n",
       " 'E.g.',\n",
       " '.g.',\n",
       " 'X.x.',\n",
       " 'Feb.',\n",
       " 'February',\n",
       " 'feb.',\n",
       " 'F',\n",
       " 'eb.',\n",
       " 'Fla.',\n",
       " 'Florida',\n",
       " 'fla.',\n",
       " 'Ga.',\n",
       " 'Georgia',\n",
       " 'ga.',\n",
       " 'G',\n",
       " 'Gen.',\n",
       " 'gen.',\n",
       " 'en.',\n",
       " 'Goin',\n",
       " 'go',\n",
       " 'going',\n",
       " 'goin',\n",
       " \"Goin'\",\n",
       " \"goin'\",\n",
       " 'Goin’',\n",
       " 'goin’',\n",
       " 'Gon',\n",
       " 'gon',\n",
       " 'na',\n",
       " 'to',\n",
       " 'Got',\n",
       " 'got',\n",
       " 'ta',\n",
       " 't',\n",
       " 'Gov.',\n",
       " 'gov.',\n",
       " 'ov.',\n",
       " 'H',\n",
       " 'ave',\n",
       " 'Havin',\n",
       " 'having',\n",
       " 'havin',\n",
       " 'vin',\n",
       " \"Havin'\",\n",
       " \"havin'\",\n",
       " \"Xxxxx'\",\n",
       " 'Havin’',\n",
       " 'havin’',\n",
       " 'Xxxxx’',\n",
       " 'would',\n",
       " 'x',\n",
       " 'll',\n",
       " 'l',\n",
       " 's',\n",
       " '’d',\n",
       " '’x',\n",
       " '’ll',\n",
       " '’s',\n",
       " 'How',\n",
       " 'how',\n",
       " \"'y\",\n",
       " 're',\n",
       " 'r',\n",
       " '’y',\n",
       " '’re',\n",
       " 'i',\n",
       " 'going to',\n",
       " 'gonna',\n",
       " 'I.E.',\n",
       " 'i.e.',\n",
       " '.E.',\n",
       " 'I.e.',\n",
       " '.e.',\n",
       " 'Ia.',\n",
       " 'Iowa',\n",
       " 'ia.',\n",
       " 'Id.',\n",
       " 'Idaho',\n",
       " 'id.',\n",
       " 'Ill.',\n",
       " 'Illinois',\n",
       " 'ill.',\n",
       " 'll.',\n",
       " 'm',\n",
       " 'Inc.',\n",
       " 'inc.',\n",
       " 'nc.',\n",
       " 'Ind.',\n",
       " 'Indiana',\n",
       " 'ind.',\n",
       " 'nd.',\n",
       " '’m',\n",
       " 'Jan.',\n",
       " 'January',\n",
       " 'jan.',\n",
       " 'J',\n",
       " 'an.',\n",
       " 'Jr.',\n",
       " 'jr.',\n",
       " 'Jul.',\n",
       " 'July',\n",
       " 'jul.',\n",
       " 'ul.',\n",
       " 'Jun.',\n",
       " 'June',\n",
       " 'jun.',\n",
       " 'un.',\n",
       " 'Kan.',\n",
       " 'Kansas',\n",
       " 'kan.',\n",
       " 'K',\n",
       " 'Kans.',\n",
       " 'kans.',\n",
       " 'ns.',\n",
       " 'Ky.',\n",
       " 'Kentucky',\n",
       " 'ky.',\n",
       " 'La.',\n",
       " 'Louisiana',\n",
       " 'L',\n",
       " 'Let',\n",
       " 'let',\n",
       " 'Lovin',\n",
       " 'love',\n",
       " 'loving',\n",
       " 'lovin',\n",
       " \"Lovin'\",\n",
       " \"lovin'\",\n",
       " 'Lovin’',\n",
       " 'lovin’',\n",
       " 'Ltd.',\n",
       " 'ltd.',\n",
       " 'td.',\n",
       " \"Ma'am\",\n",
       " 'madam',\n",
       " \"ma'am\",\n",
       " 'M',\n",
       " \"'am\",\n",
       " \"Xx'xx\",\n",
       " 'Mar.',\n",
       " 'March',\n",
       " 'mar.',\n",
       " 'ar.',\n",
       " 'Mass.',\n",
       " 'Massachusetts',\n",
       " 'mass.',\n",
       " 'ss.',\n",
       " 'May.',\n",
       " 'May',\n",
       " 'may.',\n",
       " 'ay.',\n",
       " 'may',\n",
       " 'Ma’am',\n",
       " 'ma’am',\n",
       " '’am',\n",
       " 'Xx’xx',\n",
       " 'Md.',\n",
       " 'md.',\n",
       " 'Messrs.',\n",
       " 'messrs.',\n",
       " 'rs.',\n",
       " 'Mich.',\n",
       " 'Michigan',\n",
       " 'mich.',\n",
       " 'ch.',\n",
       " 'Might',\n",
       " 'might',\n",
       " 'ght',\n",
       " 'Minn.',\n",
       " 'Minnesota',\n",
       " 'minn.',\n",
       " 'Miss.',\n",
       " 'Mississippi',\n",
       " 'miss.',\n",
       " 'Mo.',\n",
       " 'mo.',\n",
       " 'Mont.',\n",
       " 'mont.',\n",
       " 'nt.',\n",
       " 'Mr.',\n",
       " 'mr.',\n",
       " 'Mrs.',\n",
       " 'mrs.',\n",
       " 'Ms.',\n",
       " 'ms.',\n",
       " 'Mt.',\n",
       " 'Mount',\n",
       " 'mt.',\n",
       " 'Must',\n",
       " 'must',\n",
       " 'ust',\n",
       " 'N.C.',\n",
       " 'North Carolina',\n",
       " 'n.c.',\n",
       " 'N',\n",
       " 'N.D.',\n",
       " 'North Dakota',\n",
       " 'n.d.',\n",
       " '.D.',\n",
       " 'N.H.',\n",
       " 'New Hampshire',\n",
       " 'n.h.',\n",
       " '.H.',\n",
       " 'N.J.',\n",
       " 'New Jersey',\n",
       " 'n.j.',\n",
       " '.J.',\n",
       " 'N.M.',\n",
       " 'New Mexico',\n",
       " 'n.m.',\n",
       " '.M.',\n",
       " 'N.Y.',\n",
       " 'New York',\n",
       " 'n.y.',\n",
       " '.Y.',\n",
       " 'Neb.',\n",
       " 'Nebraska',\n",
       " 'neb.',\n",
       " 'Nebr.',\n",
       " 'nebr.',\n",
       " 'br.',\n",
       " 'Need',\n",
       " 'need',\n",
       " 'eed',\n",
       " 'Nev.',\n",
       " 'Nevada',\n",
       " 'nev.',\n",
       " 'ev.',\n",
       " 'Nothin',\n",
       " 'nothin',\n",
       " 'hin',\n",
       " \"Nothin'\",\n",
       " \"nothin'\",\n",
       " 'Nothin’',\n",
       " 'nothin’',\n",
       " 'Nov.',\n",
       " 'November',\n",
       " 'nov.',\n",
       " 'Nuthin',\n",
       " 'nuthin',\n",
       " \"Nuthin'\",\n",
       " \"nuthin'\",\n",
       " 'Nuthin’',\n",
       " 'nuthin’',\n",
       " \"O'clock\",\n",
       " \"o'clock\",\n",
       " 'O',\n",
       " 'ock',\n",
       " \"X'xxxx\",\n",
       " 'O.O',\n",
       " 'o.o',\n",
       " 'X.X',\n",
       " 'O.o',\n",
       " 'X.x',\n",
       " 'O_O',\n",
       " 'o_o',\n",
       " 'X_X',\n",
       " 'O_o',\n",
       " 'X_x',\n",
       " 'Oct.',\n",
       " 'October',\n",
       " 'oct.',\n",
       " 'ct.',\n",
       " 'Okla.',\n",
       " 'Oklahoma',\n",
       " 'okla.',\n",
       " 'Ol',\n",
       " 'old',\n",
       " 'ol',\n",
       " \"Ol'\",\n",
       " \"ol'\",\n",
       " \"Xx'\",\n",
       " 'Ol’',\n",
       " 'ol’',\n",
       " 'Xx’',\n",
       " 'Ore.',\n",
       " 'Oregon',\n",
       " 'ore.',\n",
       " 're.',\n",
       " 'Ought',\n",
       " 'ought',\n",
       " 'O’clock',\n",
       " 'o’clock',\n",
       " 'X’xxxx',\n",
       " 'Pa.',\n",
       " 'Pennsylvania',\n",
       " 'pa.',\n",
       " 'P',\n",
       " 'Ph.D.',\n",
       " 'ph.d.',\n",
       " 'Xx.X.',\n",
       " 'Prof.',\n",
       " 'prof.',\n",
       " 'of.',\n",
       " 'Rep.',\n",
       " 'rep.',\n",
       " 'R',\n",
       " 'ep.',\n",
       " 'Rev.',\n",
       " 'rev.',\n",
       " 'S.C.',\n",
       " 'South Carolina',\n",
       " 's.c.',\n",
       " 'S',\n",
       " 'Sen.',\n",
       " 'sen.',\n",
       " 'Sep.',\n",
       " 'September',\n",
       " 'sep.',\n",
       " 'Sept.',\n",
       " 'sept.',\n",
       " 'pt.',\n",
       " 'Sha',\n",
       " 'shall',\n",
       " 'sha',\n",
       " 'Should',\n",
       " 'should',\n",
       " 'Somethin',\n",
       " 'somethin',\n",
       " \"Somethin'\",\n",
       " \"somethin'\",\n",
       " 'Somethin’',\n",
       " 'somethin’',\n",
       " 'St.',\n",
       " 'st.',\n",
       " 'Tenn.',\n",
       " 'Tennessee',\n",
       " 'tenn.',\n",
       " 'T',\n",
       " 'hat',\n",
       " 'There',\n",
       " 'there',\n",
       " 'ere',\n",
       " 'hey',\n",
       " 'V.V',\n",
       " 'v.v',\n",
       " 'V',\n",
       " 'V_V',\n",
       " 'v_v',\n",
       " 'Va.',\n",
       " 'Virginia',\n",
       " 'va.',\n",
       " 'Wash.',\n",
       " 'Washington',\n",
       " 'wash.',\n",
       " 'W',\n",
       " 'sh.',\n",
       " 'What',\n",
       " 'what',\n",
       " 'When',\n",
       " 'when',\n",
       " 'hen',\n",
       " 'Where',\n",
       " 'where',\n",
       " 'Who',\n",
       " 'who',\n",
       " 'Why',\n",
       " 'why',\n",
       " 'Wis.',\n",
       " 'Wisconsin',\n",
       " 'wis.',\n",
       " 'is.',\n",
       " 'Wo',\n",
       " 'wo',\n",
       " 'Would',\n",
       " 'XD',\n",
       " 'xd',\n",
       " 'XDD',\n",
       " 'xdd',\n",
       " 'XXX',\n",
       " 'Y',\n",
       " '[-:',\n",
       " '[',\n",
       " '[:',\n",
       " '\\\\\")',\n",
       " '\\\\',\n",
       " '\\\\n',\n",
       " '\\\\x',\n",
       " '\\\\t',\n",
       " '^_^',\n",
       " '^',\n",
       " '^__^',\n",
       " '__^',\n",
       " '^___^',\n",
       " 'a.',\n",
       " 'x.',\n",
       " 'and/or',\n",
       " '/or',\n",
       " 'xxx/xx',\n",
       " 'b.',\n",
       " 'b',\n",
       " 'c.',\n",
       " 'c',\n",
       " 'xxxx',\n",
       " 'xx.',\n",
       " 'd.',\n",
       " \"xxxx'\",\n",
       " 'xxxx’',\n",
       " ...]"
      ]
     },
     "execution_count": 10,
     "metadata": {},
     "output_type": "execute_result"
    }
   ],
   "source": [
    "list(nlp.vocab.strings)"
   ]
  },
  {
   "cell_type": "code",
   "execution_count": 12,
   "metadata": {},
   "outputs": [
    {
     "data": {
      "text/plain": [
       "1183"
      ]
     },
     "execution_count": 12,
     "metadata": {},
     "output_type": "execute_result"
    }
   ],
   "source": [
    "len(list(nlp.vocab.strings))"
   ]
  },
  {
   "attachments": {
    "vocab_stringstore-1d1c9ccd7a1cf4d168bfe4ca791e6eed.svg": {
     "image/svg+xml": [
      "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"
     ]
    }
   },
   "cell_type": "markdown",
   "metadata": {},
   "source": [
    "![vocab_stringstore-1d1c9ccd7a1cf4d168bfe4ca791e6eed.svg](attachment:vocab_stringstore-1d1c9ccd7a1cf4d168bfe4ca791e6eed.svg)"
   ]
  },
  {
   "cell_type": "markdown",
   "metadata": {},
   "source": [
    "- Doc: A processed container of tokens in context.\n",
    "- Lexeme: A “word type” with no context. Includes the word shape and flags, e.g. if it’s lowercase, a digit or punctuation.\n",
    "- Vocab: The collection of lexemes.\n",
    "- StringStore: The dictionary mapping hash values to strings, for example 3197928453018144401 → “coffee”."
   ]
  },
  {
   "cell_type": "code",
   "execution_count": 22,
   "metadata": {},
   "outputs": [
    {
     "name": "stdout",
     "output_type": "stream",
     "text": [
      "I 4690420944186131903 X I I True False True en\n",
      "love 3702023516439754181 xxxx l ove True False False en\n",
      "Coffee 3474706295102377020 Xxxxx C fee True False True en\n"
     ]
    }
   ],
   "source": [
    "doc = nlp(\"I love Coffee\")\n",
    "for word in doc:\n",
    "    lexeme = doc.vocab[word.text]\n",
    "    print(lexeme.text,lexeme.orth,lexeme.shape_,lexeme.prefix_,lexeme.suffix_,lexeme.is_alpha,lexeme.is_digit,lexeme.is_title,lexeme.lang_)"
   ]
  },
  {
   "cell_type": "code",
   "execution_count": 23,
   "metadata": {},
   "outputs": [
    {
     "data": {
      "text/plain": [
       "I am Ajay Goswami. If you want a playlist of any new technology, mail me at mail - ajay.goswami0532@gmail.com.\n",
       "        There is learning cost INR - 00 for learning now a days. Go to my channel https://www.youtube.com/channel/UCuP52iVtoAbwUjo6M5DHkDA?view_as=subscriber "
      ]
     },
     "execution_count": 23,
     "metadata": {},
     "output_type": "execute_result"
    }
   ],
   "source": [
    "txt"
   ]
  },
  {
   "cell_type": "code",
   "execution_count": 24,
   "metadata": {},
   "outputs": [
    {
     "data": {
      "text/plain": [
       "I"
      ]
     },
     "execution_count": 24,
     "metadata": {},
     "output_type": "execute_result"
    }
   ],
   "source": [
    "txt[0]"
   ]
  },
  {
   "cell_type": "code",
   "execution_count": 25,
   "metadata": {},
   "outputs": [
    {
     "data": {
      "text/plain": [
       "Goswami"
      ]
     },
     "execution_count": 25,
     "metadata": {},
     "output_type": "execute_result"
    }
   ],
   "source": [
    "txt[3]"
   ]
  },
  {
   "cell_type": "code",
   "execution_count": 26,
   "metadata": {},
   "outputs": [
    {
     "data": {
      "text/plain": [
       "If you want a playlist of any new technology, mail me at mail - ajay.goswami0532@gmail.com."
      ]
     },
     "execution_count": 26,
     "metadata": {},
     "output_type": "execute_result"
    }
   ],
   "source": [
    "txt[5:22]"
   ]
  },
  {
   "cell_type": "code",
   "execution_count": 27,
   "metadata": {},
   "outputs": [
    {
     "data": {
      "text/plain": [
       "to my channel https://www.youtube.com/channel/UCuP52iVtoAbwUjo6M5DHkDA?view_as=subscriber"
      ]
     },
     "execution_count": 27,
     "metadata": {},
     "output_type": "execute_result"
    }
   ],
   "source": [
    "txt[37:]"
   ]
  },
  {
   "cell_type": "code",
   "execution_count": 28,
   "metadata": {},
   "outputs": [
    {
     "data": {
      "text/plain": [
       "I am Ajay Goswami. If you want a playlist of any new technology, mail me at mail - ajay.goswami0532@gmail.com.\n",
       "        There is learning cost INR - 00 for learning now a days. Go"
      ]
     },
     "execution_count": 28,
     "metadata": {},
     "output_type": "execute_result"
    }
   ],
   "source": [
    "txt[:37]"
   ]
  },
  {
   "cell_type": "code",
   "execution_count": 30,
   "metadata": {},
   "outputs": [],
   "source": [
    "#txt[0] = \"you\""
   ]
  },
  {
   "cell_type": "markdown",
   "metadata": {},
   "source": [
    "## Find out Entities"
   ]
  },
  {
   "cell_type": "markdown",
   "metadata": {},
   "source": [
    "- named entity is a real-world object, such as persons, locations, organizations, products, etc., that can be denoted with a proper name. It can be abstract or have a physical existence. Examples of named entities include Barack Obama, New York City, Volkswagen Golf, or anything else that can be named. Named entities can simply be viewed as entity instances"
   ]
  },
  {
   "cell_type": "code",
   "execution_count": 32,
   "metadata": {},
   "outputs": [
    {
     "name": "stdout",
     "output_type": "stream",
     "text": [
      "Ajay Goswami\n",
      "ajay.goswami0532@gmail.com\n"
     ]
    }
   ],
   "source": [
    "for entity in txt.ents:\n",
    "    print(entity)"
   ]
  },
  {
   "cell_type": "code",
   "execution_count": 36,
   "metadata": {},
   "outputs": [],
   "source": [
    "txt2 = nlp(\"Carey from Delhi has 20 million followers in YouTube\")"
   ]
  },
  {
   "cell_type": "code",
   "execution_count": 37,
   "metadata": {
    "scrolled": false
   },
   "outputs": [
    {
     "name": "stdout",
     "output_type": "stream",
     "text": [
      "Carey\n",
      "Delhi\n",
      "20 million\n",
      "YouTube\n"
     ]
    }
   ],
   "source": [
    "for entity in txt2.ents:\n",
    "    print(entity)"
   ]
  },
  {
   "cell_type": "markdown",
   "metadata": {},
   "source": [
    "#### entity LABELING"
   ]
  },
  {
   "cell_type": "code",
   "execution_count": 40,
   "metadata": {},
   "outputs": [
    {
     "name": "stdout",
     "output_type": "stream",
     "text": [
      "Carey PERSON\n",
      "Delhi GPE\n",
      "20 million CARDINAL\n",
      "YouTube ORG\n"
     ]
    }
   ],
   "source": [
    "for entity in txt2.ents:\n",
    "    print(entity,entity.label_)"
   ]
  },
  {
   "cell_type": "code",
   "execution_count": 42,
   "metadata": {},
   "outputs": [
    {
     "name": "stdout",
     "output_type": "stream",
     "text": [
      "People, including fictional\n",
      "Countries, cities, states\n",
      "Numerals that do not fall under another type\n",
      "Companies, agencies, institutions, etc.\n"
     ]
    }
   ],
   "source": [
    "for entity in txt2.ents:\n",
    "    print(str(spacy.explain(entity.label_)))"
   ]
  },
  {
   "cell_type": "markdown",
   "metadata": {},
   "source": [
    "## CHUNKING"
   ]
  },
  {
   "cell_type": "markdown",
   "metadata": {},
   "source": [
    "\n",
    "- Chunking is the process of extracting noun phrases from the text. spaCy can identify noun phrases (or noun chunks), as well. You can think of noun chunks as a noun plus the words describing the noun. It's also possible to identify and extract the base-noun of a given chunk"
   ]
  },
  {
   "cell_type": "code",
   "execution_count": 43,
   "metadata": {},
   "outputs": [
    {
     "data": {
      "text/plain": [
       "I am Ajay Goswami. If you want a playlist of any new technology, mail me at mail - ajay.goswami0532@gmail.com.\n",
       "        There is learning cost INR - 00 for learning now a days. Go to my channel https://www.youtube.com/channel/UCuP52iVtoAbwUjo6M5DHkDA?view_as=subscriber "
      ]
     },
     "execution_count": 43,
     "metadata": {},
     "output_type": "execute_result"
    }
   ],
   "source": [
    "txt"
   ]
  },
  {
   "cell_type": "code",
   "execution_count": 44,
   "metadata": {},
   "outputs": [
    {
     "name": "stdout",
     "output_type": "stream",
     "text": [
      "I\n",
      "Ajay Goswami\n",
      "you\n",
      "a playlist\n",
      "any new technology\n",
      "me\n",
      "mail - ajay.goswami0532@gmail.com\n",
      "cost\n",
      "my channel\n"
     ]
    }
   ],
   "source": [
    "for chunks in txt.noun_chunks:\n",
    "    print(chunks)"
   ]
  },
  {
   "cell_type": "markdown",
   "metadata": {},
   "source": [
    "## Display"
   ]
  },
  {
   "cell_type": "code",
   "execution_count": 48,
   "metadata": {},
   "outputs": [],
   "source": [
    "from spacy import displacy"
   ]
  },
  {
   "cell_type": "code",
   "execution_count": 49,
   "metadata": {},
   "outputs": [
    {
     "data": {
      "text/plain": [
       "Carey from Delhi has 20 million followers in YouTube"
      ]
     },
     "execution_count": 49,
     "metadata": {},
     "output_type": "execute_result"
    }
   ],
   "source": [
    "txt2"
   ]
  },
  {
   "cell_type": "code",
   "execution_count": 53,
   "metadata": {},
   "outputs": [
    {
     "data": {
      "text/html": [
       "<span class=\"tex2jax_ignore\"><div class=\"entities\" style=\"line-height: 2.5; direction: ltr\">\n",
       "<mark class=\"entity\" style=\"background: #aa9cfc; padding: 0.45em 0.6em; margin: 0 0.25em; line-height: 1; border-radius: 0.35em;\">\n",
       "    Carey\n",
       "    <span style=\"font-size: 0.8em; font-weight: bold; line-height: 1; border-radius: 0.35em; text-transform: uppercase; vertical-align: middle; margin-left: 0.5rem\">PERSON</span>\n",
       "</mark>\n",
       " from \n",
       "<mark class=\"entity\" style=\"background: #feca74; padding: 0.45em 0.6em; margin: 0 0.25em; line-height: 1; border-radius: 0.35em;\">\n",
       "    Delhi\n",
       "    <span style=\"font-size: 0.8em; font-weight: bold; line-height: 1; border-radius: 0.35em; text-transform: uppercase; vertical-align: middle; margin-left: 0.5rem\">GPE</span>\n",
       "</mark>\n",
       " has \n",
       "<mark class=\"entity\" style=\"background: #e4e7d2; padding: 0.45em 0.6em; margin: 0 0.25em; line-height: 1; border-radius: 0.35em;\">\n",
       "    20 million\n",
       "    <span style=\"font-size: 0.8em; font-weight: bold; line-height: 1; border-radius: 0.35em; text-transform: uppercase; vertical-align: middle; margin-left: 0.5rem\">CARDINAL</span>\n",
       "</mark>\n",
       " followers in \n",
       "<mark class=\"entity\" style=\"background: #7aecec; padding: 0.45em 0.6em; margin: 0 0.25em; line-height: 1; border-radius: 0.35em;\">\n",
       "    YouTube\n",
       "    <span style=\"font-size: 0.8em; font-weight: bold; line-height: 1; border-radius: 0.35em; text-transform: uppercase; vertical-align: middle; margin-left: 0.5rem\">ORG</span>\n",
       "</mark>\n",
       "</div></span>"
      ],
      "text/plain": [
       "<IPython.core.display.HTML object>"
      ]
     },
     "metadata": {},
     "output_type": "display_data"
    }
   ],
   "source": [
    "displacy.render(txt2,style= 'ent',jupyter =True, options= {\"distance\":120})"
   ]
  },
  {
   "cell_type": "code",
   "execution_count": 54,
   "metadata": {},
   "outputs": [
    {
     "data": {
      "text/plain": [
       "'Numerals that do not fall under another type'"
      ]
     },
     "execution_count": 54,
     "metadata": {},
     "output_type": "execute_result"
    }
   ],
   "source": [
    "spacy.explain(\"CARDINAL\")"
   ]
  },
  {
   "cell_type": "code",
   "execution_count": 55,
   "metadata": {},
   "outputs": [
    {
     "data": {
      "text/plain": [
       "'Countries, cities, states'"
      ]
     },
     "execution_count": 55,
     "metadata": {},
     "output_type": "execute_result"
    }
   ],
   "source": [
    "spacy.explain(\"GPE\")"
   ]
  },
  {
   "cell_type": "code",
   "execution_count": 57,
   "metadata": {},
   "outputs": [
    {
     "data": {
      "text/plain": [
       "'Companies, agencies, institutions, etc.'"
      ]
     },
     "execution_count": 57,
     "metadata": {},
     "output_type": "execute_result"
    }
   ],
   "source": [
    "spacy.explain(\"ORG\")"
   ]
  },
  {
   "cell_type": "code",
   "execution_count": 60,
   "metadata": {},
   "outputs": [
    {
     "data": {
      "text/html": [
       "<span class=\"tex2jax_ignore\"><svg xmlns=\"http://www.w3.org/2000/svg\" xmlns:xlink=\"http://www.w3.org/1999/xlink\" xml:lang=\"en\" id=\"7581471b9bac418f8e39adeaa4d91e40-0\" class=\"displacy\" width=\"1625\" height=\"312.0\" direction=\"ltr\" style=\"max-width: none; height: 312.0px; color: #000000; background: #ffffff; font-family: Arial; direction: ltr\">\n",
       "<text class=\"displacy-token\" fill=\"currentColor\" text-anchor=\"middle\" y=\"222.0\">\n",
       "    <tspan class=\"displacy-word\" fill=\"currentColor\" x=\"50\">Carey</tspan>\n",
       "    <tspan class=\"displacy-tag\" dy=\"2em\" fill=\"currentColor\" x=\"50\">PROPN</tspan>\n",
       "</text>\n",
       "\n",
       "<text class=\"displacy-token\" fill=\"currentColor\" text-anchor=\"middle\" y=\"222.0\">\n",
       "    <tspan class=\"displacy-word\" fill=\"currentColor\" x=\"225\">from</tspan>\n",
       "    <tspan class=\"displacy-tag\" dy=\"2em\" fill=\"currentColor\" x=\"225\">ADP</tspan>\n",
       "</text>\n",
       "\n",
       "<text class=\"displacy-token\" fill=\"currentColor\" text-anchor=\"middle\" y=\"222.0\">\n",
       "    <tspan class=\"displacy-word\" fill=\"currentColor\" x=\"400\">Delhi</tspan>\n",
       "    <tspan class=\"displacy-tag\" dy=\"2em\" fill=\"currentColor\" x=\"400\">PROPN</tspan>\n",
       "</text>\n",
       "\n",
       "<text class=\"displacy-token\" fill=\"currentColor\" text-anchor=\"middle\" y=\"222.0\">\n",
       "    <tspan class=\"displacy-word\" fill=\"currentColor\" x=\"575\">has</tspan>\n",
       "    <tspan class=\"displacy-tag\" dy=\"2em\" fill=\"currentColor\" x=\"575\">AUX</tspan>\n",
       "</text>\n",
       "\n",
       "<text class=\"displacy-token\" fill=\"currentColor\" text-anchor=\"middle\" y=\"222.0\">\n",
       "    <tspan class=\"displacy-word\" fill=\"currentColor\" x=\"750\">20</tspan>\n",
       "    <tspan class=\"displacy-tag\" dy=\"2em\" fill=\"currentColor\" x=\"750\">NUM</tspan>\n",
       "</text>\n",
       "\n",
       "<text class=\"displacy-token\" fill=\"currentColor\" text-anchor=\"middle\" y=\"222.0\">\n",
       "    <tspan class=\"displacy-word\" fill=\"currentColor\" x=\"925\">million</tspan>\n",
       "    <tspan class=\"displacy-tag\" dy=\"2em\" fill=\"currentColor\" x=\"925\">NUM</tspan>\n",
       "</text>\n",
       "\n",
       "<text class=\"displacy-token\" fill=\"currentColor\" text-anchor=\"middle\" y=\"222.0\">\n",
       "    <tspan class=\"displacy-word\" fill=\"currentColor\" x=\"1100\">followers</tspan>\n",
       "    <tspan class=\"displacy-tag\" dy=\"2em\" fill=\"currentColor\" x=\"1100\">NOUN</tspan>\n",
       "</text>\n",
       "\n",
       "<text class=\"displacy-token\" fill=\"currentColor\" text-anchor=\"middle\" y=\"222.0\">\n",
       "    <tspan class=\"displacy-word\" fill=\"currentColor\" x=\"1275\">in</tspan>\n",
       "    <tspan class=\"displacy-tag\" dy=\"2em\" fill=\"currentColor\" x=\"1275\">ADP</tspan>\n",
       "</text>\n",
       "\n",
       "<text class=\"displacy-token\" fill=\"currentColor\" text-anchor=\"middle\" y=\"222.0\">\n",
       "    <tspan class=\"displacy-word\" fill=\"currentColor\" x=\"1450\">YouTube</tspan>\n",
       "    <tspan class=\"displacy-tag\" dy=\"2em\" fill=\"currentColor\" x=\"1450\">PROPN</tspan>\n",
       "</text>\n",
       "\n",
       "<g class=\"displacy-arrow\">\n",
       "    <path class=\"displacy-arc\" id=\"arrow-7581471b9bac418f8e39adeaa4d91e40-0-0\" stroke-width=\"2px\" d=\"M70,177.0 C70,2.0 575.0,2.0 575.0,177.0\" fill=\"none\" stroke=\"currentColor\"/>\n",
       "    <text dy=\"1.25em\" style=\"font-size: 0.8em; letter-spacing: 1px\">\n",
       "        <textPath xlink:href=\"#arrow-7581471b9bac418f8e39adeaa4d91e40-0-0\" class=\"displacy-label\" startOffset=\"50%\" side=\"left\" fill=\"currentColor\" text-anchor=\"middle\">nsubj</textPath>\n",
       "    </text>\n",
       "    <path class=\"displacy-arrowhead\" d=\"M70,179.0 L62,167.0 78,167.0\" fill=\"currentColor\"/>\n",
       "</g>\n",
       "\n",
       "<g class=\"displacy-arrow\">\n",
       "    <path class=\"displacy-arc\" id=\"arrow-7581471b9bac418f8e39adeaa4d91e40-0-1\" stroke-width=\"2px\" d=\"M70,177.0 C70,89.5 220.0,89.5 220.0,177.0\" fill=\"none\" stroke=\"currentColor\"/>\n",
       "    <text dy=\"1.25em\" style=\"font-size: 0.8em; letter-spacing: 1px\">\n",
       "        <textPath xlink:href=\"#arrow-7581471b9bac418f8e39adeaa4d91e40-0-1\" class=\"displacy-label\" startOffset=\"50%\" side=\"left\" fill=\"currentColor\" text-anchor=\"middle\">prep</textPath>\n",
       "    </text>\n",
       "    <path class=\"displacy-arrowhead\" d=\"M220.0,179.0 L228.0,167.0 212.0,167.0\" fill=\"currentColor\"/>\n",
       "</g>\n",
       "\n",
       "<g class=\"displacy-arrow\">\n",
       "    <path class=\"displacy-arc\" id=\"arrow-7581471b9bac418f8e39adeaa4d91e40-0-2\" stroke-width=\"2px\" d=\"M245,177.0 C245,89.5 395.0,89.5 395.0,177.0\" fill=\"none\" stroke=\"currentColor\"/>\n",
       "    <text dy=\"1.25em\" style=\"font-size: 0.8em; letter-spacing: 1px\">\n",
       "        <textPath xlink:href=\"#arrow-7581471b9bac418f8e39adeaa4d91e40-0-2\" class=\"displacy-label\" startOffset=\"50%\" side=\"left\" fill=\"currentColor\" text-anchor=\"middle\">pobj</textPath>\n",
       "    </text>\n",
       "    <path class=\"displacy-arrowhead\" d=\"M395.0,179.0 L403.0,167.0 387.0,167.0\" fill=\"currentColor\"/>\n",
       "</g>\n",
       "\n",
       "<g class=\"displacy-arrow\">\n",
       "    <path class=\"displacy-arc\" id=\"arrow-7581471b9bac418f8e39adeaa4d91e40-0-3\" stroke-width=\"2px\" d=\"M770,177.0 C770,89.5 920.0,89.5 920.0,177.0\" fill=\"none\" stroke=\"currentColor\"/>\n",
       "    <text dy=\"1.25em\" style=\"font-size: 0.8em; letter-spacing: 1px\">\n",
       "        <textPath xlink:href=\"#arrow-7581471b9bac418f8e39adeaa4d91e40-0-3\" class=\"displacy-label\" startOffset=\"50%\" side=\"left\" fill=\"currentColor\" text-anchor=\"middle\">compound</textPath>\n",
       "    </text>\n",
       "    <path class=\"displacy-arrowhead\" d=\"M770,179.0 L762,167.0 778,167.0\" fill=\"currentColor\"/>\n",
       "</g>\n",
       "\n",
       "<g class=\"displacy-arrow\">\n",
       "    <path class=\"displacy-arc\" id=\"arrow-7581471b9bac418f8e39adeaa4d91e40-0-4\" stroke-width=\"2px\" d=\"M945,177.0 C945,89.5 1095.0,89.5 1095.0,177.0\" fill=\"none\" stroke=\"currentColor\"/>\n",
       "    <text dy=\"1.25em\" style=\"font-size: 0.8em; letter-spacing: 1px\">\n",
       "        <textPath xlink:href=\"#arrow-7581471b9bac418f8e39adeaa4d91e40-0-4\" class=\"displacy-label\" startOffset=\"50%\" side=\"left\" fill=\"currentColor\" text-anchor=\"middle\">nummod</textPath>\n",
       "    </text>\n",
       "    <path class=\"displacy-arrowhead\" d=\"M945,179.0 L937,167.0 953,167.0\" fill=\"currentColor\"/>\n",
       "</g>\n",
       "\n",
       "<g class=\"displacy-arrow\">\n",
       "    <path class=\"displacy-arc\" id=\"arrow-7581471b9bac418f8e39adeaa4d91e40-0-5\" stroke-width=\"2px\" d=\"M595,177.0 C595,2.0 1100.0,2.0 1100.0,177.0\" fill=\"none\" stroke=\"currentColor\"/>\n",
       "    <text dy=\"1.25em\" style=\"font-size: 0.8em; letter-spacing: 1px\">\n",
       "        <textPath xlink:href=\"#arrow-7581471b9bac418f8e39adeaa4d91e40-0-5\" class=\"displacy-label\" startOffset=\"50%\" side=\"left\" fill=\"currentColor\" text-anchor=\"middle\">dobj</textPath>\n",
       "    </text>\n",
       "    <path class=\"displacy-arrowhead\" d=\"M1100.0,179.0 L1108.0,167.0 1092.0,167.0\" fill=\"currentColor\"/>\n",
       "</g>\n",
       "\n",
       "<g class=\"displacy-arrow\">\n",
       "    <path class=\"displacy-arc\" id=\"arrow-7581471b9bac418f8e39adeaa4d91e40-0-6\" stroke-width=\"2px\" d=\"M1120,177.0 C1120,89.5 1270.0,89.5 1270.0,177.0\" fill=\"none\" stroke=\"currentColor\"/>\n",
       "    <text dy=\"1.25em\" style=\"font-size: 0.8em; letter-spacing: 1px\">\n",
       "        <textPath xlink:href=\"#arrow-7581471b9bac418f8e39adeaa4d91e40-0-6\" class=\"displacy-label\" startOffset=\"50%\" side=\"left\" fill=\"currentColor\" text-anchor=\"middle\">prep</textPath>\n",
       "    </text>\n",
       "    <path class=\"displacy-arrowhead\" d=\"M1270.0,179.0 L1278.0,167.0 1262.0,167.0\" fill=\"currentColor\"/>\n",
       "</g>\n",
       "\n",
       "<g class=\"displacy-arrow\">\n",
       "    <path class=\"displacy-arc\" id=\"arrow-7581471b9bac418f8e39adeaa4d91e40-0-7\" stroke-width=\"2px\" d=\"M1295,177.0 C1295,89.5 1445.0,89.5 1445.0,177.0\" fill=\"none\" stroke=\"currentColor\"/>\n",
       "    <text dy=\"1.25em\" style=\"font-size: 0.8em; letter-spacing: 1px\">\n",
       "        <textPath xlink:href=\"#arrow-7581471b9bac418f8e39adeaa4d91e40-0-7\" class=\"displacy-label\" startOffset=\"50%\" side=\"left\" fill=\"currentColor\" text-anchor=\"middle\">pobj</textPath>\n",
       "    </text>\n",
       "    <path class=\"displacy-arrowhead\" d=\"M1445.0,179.0 L1453.0,167.0 1437.0,167.0\" fill=\"currentColor\"/>\n",
       "</g>\n",
       "</svg></span>"
      ],
      "text/plain": [
       "<IPython.core.display.HTML object>"
      ]
     },
     "metadata": {},
     "output_type": "display_data"
    }
   ],
   "source": [
    "displacy.render(txt2,style='dep',jupyter=True,options={'distace':120})"
   ]
  },
  {
   "cell_type": "code",
   "execution_count": null,
   "metadata": {},
   "outputs": [],
   "source": []
  },
  {
   "cell_type": "code",
   "execution_count": null,
   "metadata": {},
   "outputs": [],
   "source": []
  },
  {
   "cell_type": "code",
   "execution_count": null,
   "metadata": {},
   "outputs": [],
   "source": []
  }
 ],
 "metadata": {
  "kernelspec": {
   "display_name": "Python 3",
   "language": "python",
   "name": "python3"
  },
  "language_info": {
   "codemirror_mode": {
    "name": "ipython",
    "version": 3
   },
   "file_extension": ".py",
   "mimetype": "text/x-python",
   "name": "python",
   "nbconvert_exporter": "python",
   "pygments_lexer": "ipython3",
   "version": "3.7.6"
  }
 },
 "nbformat": 4,
 "nbformat_minor": 4
}
