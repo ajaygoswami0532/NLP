{
 "cells": [
  {
   "cell_type": "markdown",
   "metadata": {},
   "source": [
    "# spaCy basics"
   ]
  },
  {
   "cell_type": "markdown",
   "metadata": {},
   "source": [
    "-  token.text\n",
    "- .pos , .pos_\n",
    "- .dep , .dep_\n",
    "- .shape, .shape_\n",
    "- .is_alpha\n",
    "- .is_stop\n",
    "-  nlp.pipeline"
   ]
  },
  {
   "cell_type": "code",
   "execution_count": 1,
   "metadata": {},
   "outputs": [],
   "source": [
    "import spacy"
   ]
  },
  {
   "cell_type": "code",
   "execution_count": 2,
   "metadata": {},
   "outputs": [],
   "source": [
    "import en_core_web_sm\n",
    "nlp = en_core_web_sm.load()  #stand for english core language with web interface"
   ]
  },
  {
   "cell_type": "code",
   "execution_count": 3,
   "metadata": {},
   "outputs": [],
   "source": [
    "doc = \"Tata is going to sell India based cars to U.S.A. for $3 million\""
   ]
  },
  {
   "cell_type": "code",
   "execution_count": 4,
   "metadata": {},
   "outputs": [],
   "source": [
    "doc = nlp(doc)"
   ]
  },
  {
   "cell_type": "markdown",
   "metadata": {},
   "source": [
    "### token.text ===>> for tokenize/split the words"
   ]
  },
  {
   "cell_type": "code",
   "execution_count": 5,
   "metadata": {},
   "outputs": [
    {
     "name": "stdout",
     "output_type": "stream",
     "text": [
      "Tata\n",
      "is\n",
      "going\n",
      "to\n",
      "sell\n",
      "India\n",
      "based\n",
      "cars\n",
      "to\n",
      "U.S.A.\n",
      "for\n",
      "$\n",
      "3\n",
      "million\n"
     ]
    }
   ],
   "source": [
    "for token in doc:\n",
    "    print(token.text)"
   ]
  },
  {
   "cell_type": "markdown",
   "metadata": {},
   "source": [
    "### .pos_ ===>> Return which part of speech is this"
   ]
  },
  {
   "cell_type": "code",
   "execution_count": 7,
   "metadata": {
    "scrolled": true
   },
   "outputs": [
    {
     "name": "stdout",
     "output_type": "stream",
     "text": [
      "Tata PROPN\n",
      "is AUX\n",
      "going VERB\n",
      "to PART\n",
      "sell VERB\n",
      "India PROPN\n",
      "based VERB\n",
      "cars NOUN\n",
      "to ADP\n",
      "U.S.A. PROPN\n",
      "for ADP\n",
      "$ SYM\n",
      "3 NUM\n",
      "million NUM\n"
     ]
    }
   ],
   "source": [
    "for token in doc:\n",
    "    print(token.text,token.pos_)"
   ]
  },
  {
   "cell_type": "code",
   "execution_count": null,
   "metadata": {
    "scrolled": true
   },
   "outputs": [],
   "source": [
    "for token in doc:\n",
    "    print(token.text,token.pos_)"
   ]
  },
  {
   "cell_type": "markdown",
   "metadata": {},
   "source": [
    "### .dep_ ===>>> told us syntactic dependency of each words\n"
   ]
  },
  {
   "cell_type": "code",
   "execution_count": 9,
   "metadata": {},
   "outputs": [
    {
     "name": "stdout",
     "output_type": "stream",
     "text": [
      "Tata PROPN nsubj\n",
      "is AUX aux\n",
      "going VERB ROOT\n",
      "to PART aux\n",
      "sell VERB xcomp\n",
      "India PROPN dative\n",
      "based VERB amod\n",
      "cars NOUN dobj\n",
      "to ADP prep\n",
      "U.S.A. PROPN pobj\n",
      "for ADP prep\n",
      "$ SYM quantmod\n",
      "3 NUM compound\n",
      "million NUM pobj\n"
     ]
    }
   ],
   "source": [
    "for token in doc:\n",
    "    print(token.text,token.pos_,token.dep_)\n",
    "\n",
    "   "
   ]
  },
  {
   "cell_type": "markdown",
   "metadata": {},
   "source": [
    "### nlp.pipeline ==>>> we are using pipelines to identify some particuler things with in a text like phrases, tagger, name etc"
   ]
  },
  {
   "cell_type": "code",
   "execution_count": 11,
   "metadata": {
    "scrolled": true
   },
   "outputs": [
    {
     "data": {
      "text/plain": [
       "[('tagger', <spacy.pipeline.pipes.Tagger at 0x15ea1c0fec8>),\n",
       " ('parser', <spacy.pipeline.pipes.DependencyParser at 0x15ea19cc528>),\n",
       " ('ner', <spacy.pipeline.pipes.EntityRecognizer at 0x15ea29360a8>)]"
      ]
     },
     "execution_count": 11,
     "metadata": {},
     "output_type": "execute_result"
    }
   ],
   "source": [
    "nlp.pipeline"
   ]
  },
  {
   "cell_type": "code",
   "execution_count": 12,
   "metadata": {},
   "outputs": [
    {
     "data": {
      "text/plain": [
       "['tagger', 'parser', 'ner']"
      ]
     },
     "execution_count": 12,
     "metadata": {},
     "output_type": "execute_result"
    }
   ],
   "source": [
    "nlp.pipe_names"
   ]
  },
  {
   "cell_type": "markdown",
   "metadata": {},
   "source": [
    "### .shape_ ===>>> return us the shape of our word in capital and small letters"
   ]
  },
  {
   "cell_type": "code",
   "execution_count": 14,
   "metadata": {},
   "outputs": [
    {
     "name": "stdout",
     "output_type": "stream",
     "text": [
      "Tata Xxxx\n",
      "is xx\n",
      "going xxxx\n",
      "to xx\n",
      "sell xxxx\n",
      "India Xxxxx\n",
      "based xxxx\n",
      "cars xxxx\n",
      "to xx\n",
      "U.S.A. X.X.X.\n",
      "for xxx\n",
      "$ $\n",
      "3 d\n",
      "million xxxx\n"
     ]
    }
   ],
   "source": [
    "for token in doc:\n",
    "    print(token.text,token.shape_)"
   ]
  },
  {
   "cell_type": "markdown",
   "metadata": {},
   "source": [
    "### .is_alpha ===>> return us boolean (true or false) if word is alphabet"
   ]
  },
  {
   "cell_type": "code",
   "execution_count": 15,
   "metadata": {
    "scrolled": true
   },
   "outputs": [
    {
     "name": "stdout",
     "output_type": "stream",
     "text": [
      "Tata True\n",
      "is True\n",
      "going True\n",
      "to True\n",
      "sell True\n",
      "India True\n",
      "based True\n",
      "cars True\n",
      "to True\n",
      "U.S.A. False\n",
      "for True\n",
      "$ False\n",
      "3 False\n",
      "million True\n"
     ]
    }
   ],
   "source": [
    "for token in doc:\n",
    "    print(token.text,token.is_alpha)"
   ]
  },
  {
   "cell_type": "markdown",
   "metadata": {},
   "source": [
    "### .is_stop ===>>> returns boolean(true or false)if word is a stop word"
   ]
  },
  {
   "cell_type": "markdown",
   "metadata": {},
   "source": [
    "-  what is stop words in nlp ?\n"
   ]
  },
  {
   "cell_type": "code",
   "execution_count": 16,
   "metadata": {},
   "outputs": [
    {
     "name": "stdout",
     "output_type": "stream",
     "text": [
      "Tata False\n",
      "is True\n",
      "going False\n",
      "to True\n",
      "sell False\n",
      "India False\n",
      "based False\n",
      "cars False\n",
      "to True\n",
      "U.S.A. False\n",
      "for True\n",
      "$ False\n",
      "3 False\n",
      "million False\n"
     ]
    }
   ],
   "source": [
    "for token in doc:\n",
    "    print(token.text,token.is_stop)"
   ]
  },
  {
   "cell_type": "markdown",
   "metadata": {},
   "source": [
    "#### - if we want to search by indexing"
   ]
  },
  {
   "cell_type": "code",
   "execution_count": 18,
   "metadata": {},
   "outputs": [],
   "source": [
    "text = nlp(\"I am Ajay Goswami\")"
   ]
  },
  {
   "cell_type": "code",
   "execution_count": 19,
   "metadata": {},
   "outputs": [
    {
     "data": {
      "text/plain": [
       "I"
      ]
     },
     "execution_count": 19,
     "metadata": {},
     "output_type": "execute_result"
    }
   ],
   "source": [
    "text[0]"
   ]
  },
  {
   "cell_type": "code",
   "execution_count": 20,
   "metadata": {},
   "outputs": [
    {
     "data": {
      "text/plain": [
       "'PRON'"
      ]
     },
     "execution_count": 20,
     "metadata": {},
     "output_type": "execute_result"
    }
   ],
   "source": [
    "text[0].pos_"
   ]
  },
  {
   "cell_type": "code",
   "execution_count": 21,
   "metadata": {},
   "outputs": [
    {
     "data": {
      "text/plain": [
       "Ajay"
      ]
     },
     "execution_count": 21,
     "metadata": {},
     "output_type": "execute_result"
    }
   ],
   "source": [
    "text[2]"
   ]
  },
  {
   "cell_type": "code",
   "execution_count": 22,
   "metadata": {},
   "outputs": [
    {
     "data": {
      "text/plain": [
       "'PROPN'"
      ]
     },
     "execution_count": 22,
     "metadata": {},
     "output_type": "execute_result"
    }
   ],
   "source": [
    "text[2].pos_"
   ]
  },
  {
   "cell_type": "code",
   "execution_count": null,
   "metadata": {},
   "outputs": [],
   "source": []
  }
 ],
 "metadata": {
  "kernelspec": {
   "display_name": "Python 3",
   "language": "python",
   "name": "python3"
  },
  "language_info": {
   "codemirror_mode": {
    "name": "ipython",
    "version": 3
   },
   "file_extension": ".py",
   "mimetype": "text/x-python",
   "name": "python",
   "nbconvert_exporter": "python",
   "pygments_lexer": "ipython3",
   "version": "3.7.6"
  }
 },
 "nbformat": 4,
 "nbformat_minor": 4
}
