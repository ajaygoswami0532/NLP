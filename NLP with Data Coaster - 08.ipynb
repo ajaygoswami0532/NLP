{
 "cells": [
  {
   "cell_type": "markdown",
   "metadata": {},
   "source": [
    "## Sentence Segmentation / Sentence Boundary Detection"
   ]
  },
  {
   "cell_type": "markdown",
   "metadata": {},
   "source": [
    "- Detection of sentence begining and Ending\n",
    "- Sentence boundary disambiguation (SBD), also known as sentence breaking, sentence boundary detection, and sentence segmentation, is the problem in natural language processing of deciding where sentences begin and end. Natural language processing tools often require their input to be divided into sentence"
   ]
  },
  {
   "cell_type": "markdown",
   "metadata": {},
   "source": [
    "### pipeline"
   ]
  },
  {
   "cell_type": "markdown",
   "metadata": {},
   "source": [
    "\n",
    "- When you call nlp on a text, spaCy first tokenizes the text to produce a Doc object. The Doc is then processed in several different steps – this is also referred to as the processing pipeline. The pipeline used by the default models consists of a tagger, a parser and an entity recognizer. Each pipeline component returns the processed Doc, which is then passed on to the next component.\n",
    "\n"
   ]
  },
  {
   "attachments": {
    "pipeline-7a14d4edd18f3edfee8f34393bff2992.svg": {
     "image/svg+xml": [
      "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"
     ]
    }
   },
   "cell_type": "markdown",
   "metadata": {},
   "source": [
    "![pipeline-7a14d4edd18f3edfee8f34393bff2992.svg](attachment:pipeline-7a14d4edd18f3edfee8f34393bff2992.svg)\n"
   ]
  },
  {
   "cell_type": "code",
   "execution_count": 1,
   "metadata": {},
   "outputs": [],
   "source": [
    "import spacy\n",
    "nlp = spacy.load(\"en_core_web_sm\")"
   ]
  },
  {
   "cell_type": "code",
   "execution_count": 2,
   "metadata": {},
   "outputs": [],
   "source": [
    "doc = nlp(\"Google LLC is an American multinational technology company ,that specializes in Internet-related services and products, which include online advertising technologies.\")"
   ]
  },
  {
   "cell_type": "code",
   "execution_count": 3,
   "metadata": {},
   "outputs": [
    {
     "data": {
      "text/plain": [
       "Google LLC is an American multinational technology company ,that specializes in Internet-related services and products, which include online advertising technologies."
      ]
     },
     "execution_count": 3,
     "metadata": {},
     "output_type": "execute_result"
    }
   ],
   "source": [
    "doc"
   ]
  },
  {
   "cell_type": "code",
   "execution_count": 4,
   "metadata": {},
   "outputs": [
    {
     "name": "stdout",
     "output_type": "stream",
     "text": [
      "Google LLC is an American multinational technology company ,that specializes in Internet-related services and products, which include online advertising technologies.\n"
     ]
    }
   ],
   "source": [
    "for sentence in doc.sents:\n",
    "    print(sentence)"
   ]
  },
  {
   "cell_type": "code",
   "execution_count": 5,
   "metadata": {},
   "outputs": [],
   "source": [
    "#defining a function to create a custom boundary"
   ]
  },
  {
   "cell_type": "code",
   "execution_count": 6,
   "metadata": {},
   "outputs": [],
   "source": [
    "def custom_boundary(doc):\n",
    "    for token in doc[:-1]:\n",
    "        if token.text == ',':\n",
    "            doc[token.i+1].is_sent_start = True\n",
    "    return doc"
   ]
  },
  {
   "cell_type": "code",
   "execution_count": 7,
   "metadata": {},
   "outputs": [],
   "source": [
    "nlp.add_pipe(custom_boundary,before='parser')"
   ]
  },
  {
   "cell_type": "code",
   "execution_count": 8,
   "metadata": {},
   "outputs": [],
   "source": [
    "doc2 = nlp(\"Google LLC is an American multinational technology company ,that specializes in Internet-related services and products, which include online advertising technologies.\")"
   ]
  },
  {
   "cell_type": "code",
   "execution_count": 9,
   "metadata": {},
   "outputs": [
    {
     "name": "stdout",
     "output_type": "stream",
     "text": [
      "Google LLC is an American multinational technology company ,\n",
      "that specializes in Internet-related services and products,\n",
      "which include online advertising technologies.\n"
     ]
    }
   ],
   "source": [
    "for sentence in doc2.sents:\n",
    "    print(sentence)"
   ]
  },
  {
   "cell_type": "markdown",
   "metadata": {},
   "source": [
    "# SentenceSegmenter"
   ]
  },
  {
   "cell_type": "markdown",
   "metadata": {},
   "source": [
    "- segmentation of Poetry\n",
    "- segmentation of song lyrics"
   ]
  },
  {
   "cell_type": "markdown",
   "metadata": {},
   "source": [
    "yield Keyword\n",
    "\n",
    "- yield is a keyword in Python that is used to return from a function without destroying the states of its local variable and when the function is called, the execution starts from the last yield statement. Any function that contains a yield keyword is termed as generator. \n",
    "\n"
   ]
  },
  {
   "cell_type": "code",
   "execution_count": 120,
   "metadata": {},
   "outputs": [],
   "source": [
    "import spacy"
   ]
  },
  {
   "cell_type": "code",
   "execution_count": 121,
   "metadata": {},
   "outputs": [],
   "source": [
    "nlp = spacy.load(\"en_core_web_sm\")"
   ]
  },
  {
   "cell_type": "code",
   "execution_count": 122,
   "metadata": {},
   "outputs": [],
   "source": [
    "text = \"What is good. What is bad.\\nDon't think \\njust move on.\""
   ]
  },
  {
   "cell_type": "code",
   "execution_count": 123,
   "metadata": {},
   "outputs": [
    {
     "name": "stdout",
     "output_type": "stream",
     "text": [
      "What is good. What is bad.\n",
      "Don't think \n",
      "just move on.\n"
     ]
    }
   ],
   "source": [
    "print(text)"
   ]
  },
  {
   "cell_type": "code",
   "execution_count": 124,
   "metadata": {},
   "outputs": [],
   "source": [
    "string = nlp(text)"
   ]
  },
  {
   "cell_type": "code",
   "execution_count": 125,
   "metadata": {},
   "outputs": [
    {
     "name": "stdout",
     "output_type": "stream",
     "text": [
      "What is good.\n",
      "What is bad.\n",
      "\n",
      "Don't think \n",
      "just move on.\n"
     ]
    }
   ],
   "source": [
    "for sentence in string.sents:\n",
    "    print(sentence)"
   ]
  },
  {
   "cell_type": "code",
   "execution_count": 126,
   "metadata": {},
   "outputs": [],
   "source": [
    "from spacy.pipeline import SentenceSegmenter"
   ]
  },
  {
   "cell_type": "code",
   "execution_count": 127,
   "metadata": {},
   "outputs": [],
   "source": [
    "def newline_splitter(doc): #defined function\n",
    "    start = 0              #assigning default value\n",
    "    found_newline = False  #assigning default value\n",
    "    \n",
    "    for word in doc:\n",
    "        if found_newline:\n",
    "            yield doc[start:word.i]   #start(0) to word.index\n",
    "            start = word.i\n",
    "            found_newline = False\n",
    "            \n",
    "        elif word.text.startswith('\\n'):  #starting from newline\n",
    "            found_newline = True\n",
    "    yield doc[start:]"
   ]
  },
  {
   "cell_type": "code",
   "execution_count": 128,
   "metadata": {},
   "outputs": [],
   "source": [
    "split = SentenceSegmenter(nlp.vocab,strategy = newline_splitter) #making segmenter"
   ]
  },
  {
   "cell_type": "code",
   "execution_count": 129,
   "metadata": {},
   "outputs": [],
   "source": [
    "nlp.add_pipe(split)   #adding segmenter to pipeline"
   ]
  },
  {
   "cell_type": "code",
   "execution_count": 130,
   "metadata": {},
   "outputs": [],
   "source": [
    "doc = nlp(text)"
   ]
  },
  {
   "cell_type": "code",
   "execution_count": 131,
   "metadata": {},
   "outputs": [
    {
     "name": "stdout",
     "output_type": "stream",
     "text": [
      "What is good. What is bad.\n",
      "\n",
      "Don't think \n",
      "\n",
      "just move on.\n"
     ]
    }
   ],
   "source": [
    "for sentence in doc.sents:\n",
    "    print(sentence)"
   ]
  },
  {
   "cell_type": "code",
   "execution_count": null,
   "metadata": {},
   "outputs": [],
   "source": []
  }
 ],
 "metadata": {
  "kernelspec": {
   "display_name": "Python 3",
   "language": "python",
   "name": "python3"
  },
  "language_info": {
   "codemirror_mode": {
    "name": "ipython",
    "version": 3
   },
   "file_extension": ".py",
   "mimetype": "text/x-python",
   "name": "python",
   "nbconvert_exporter": "python",
   "pygments_lexer": "ipython3",
   "version": "3.7.6"
  }
 },
 "nbformat": 4,
 "nbformat_minor": 4
}
