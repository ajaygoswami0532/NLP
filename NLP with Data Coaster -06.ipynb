{
 "cells": [
  {
   "cell_type": "markdown",
   "metadata": {},
   "source": [
    "# MATCHER"
   ]
  },
  {
   "cell_type": "markdown",
   "metadata": {},
   "source": [
    "### TOKEN / RULE BASED MACHING"
   ]
  },
  {
   "cell_type": "markdown",
   "metadata": {},
   "source": [
    "- Compared to using regular expressions on raw text, spaCy’s rule-based matcher engines and components not only let you find the words and phrases you’re looking for – they also give you access to the tokens within the document and their relationships. This means you can easily access and analyze the surrounding tokens.\n"
   ]
  },
  {
   "cell_type": "code",
   "execution_count": 3,
   "metadata": {},
   "outputs": [],
   "source": [
    "import spacy"
   ]
  },
  {
   "cell_type": "code",
   "execution_count": 4,
   "metadata": {},
   "outputs": [],
   "source": [
    "nlp = spacy.load(\"en_core_web_sm\")\n"
   ]
  },
  {
   "cell_type": "code",
   "execution_count": 6,
   "metadata": {},
   "outputs": [],
   "source": [
    "from spacy.matcher import Matcher "
   ]
  },
  {
   "cell_type": "code",
   "execution_count": 7,
   "metadata": {},
   "outputs": [],
   "source": [
    "#creating object of matcher class to upload vocab of english core library\n",
    "matcher = Matcher(nlp.vocab) "
   ]
  },
  {
   "cell_type": "code",
   "execution_count": 9,
   "metadata": {},
   "outputs": [
    {
     "name": "stdout",
     "output_type": "stream",
     "text": [
      "Data\n",
      "Coaster\n",
      "!\n"
     ]
    }
   ],
   "source": [
    "text = nlp(\"Data Coaster !\")\n",
    "for token in text:\n",
    "    print(token)"
   ]
  },
  {
   "cell_type": "code",
   "execution_count": 13,
   "metadata": {},
   "outputs": [],
   "source": [
    "#Designing Pattern\n",
    "pat1 = [{'Lower':'data'}]\n",
    "#LOWER = Lower statnds for to clasrify the case of that token or word that choose a pattern whose Lower case is this\n",
    "pat2 = [{'Lower':'data'},{'Lower':'coaster'}]\n",
    "pat3 = [{'Lower':'data'},{'Lower':'coaster'},{'IS_PUNCT':True}]\n",
    "pat4 = [{'Lower':'data'},{'Lower':'coaster'},{'IS_PUnCT':True,'op':'?'}]\n",
    "# ? : if there is the punctuation or not"
   ]
  },
  {
   "cell_type": "code",
   "execution_count": 14,
   "metadata": {},
   "outputs": [],
   "source": [
    "matcher.add('DataCoaster',None,pat1,pat2,pat3,pat4) #parameters : tag name, callback function, patterns\n",
    "#callback fuction : if the match is found , then there is no call back function"
   ]
  },
  {
   "cell_type": "code",
   "execution_count": 15,
   "metadata": {},
   "outputs": [],
   "source": [
    "doc = nlp('Data Coaster is a place where we are learning together. Thanks and regards data coaster !')"
   ]
  },
  {
   "cell_type": "code",
   "execution_count": 16,
   "metadata": {},
   "outputs": [],
   "source": [
    "#find\n",
    "\n",
    "found_match = matcher(doc)"
   ]
  },
  {
   "cell_type": "code",
   "execution_count": 17,
   "metadata": {},
   "outputs": [
    {
     "data": {
      "text/plain": [
       "[(4758860955724850976, 0, 1),\n",
       " (4758860955724850976, 0, 2),\n",
       " (4758860955724850976, 14, 15),\n",
       " (4758860955724850976, 14, 16),\n",
       " (4758860955724850976, 14, 17)]"
      ]
     },
     "execution_count": 17,
     "metadata": {},
     "output_type": "execute_result"
    }
   ],
   "source": [
    "found_match  #return us :match_id(hash values),start, end"
   ]
  },
  {
   "cell_type": "code",
   "execution_count": 20,
   "metadata": {},
   "outputs": [
    {
     "name": "stdout",
     "output_type": "stream",
     "text": [
      "4758860955724850976 DataCoaster 0 1 Data\n",
      "4758860955724850976 DataCoaster 0 2 Data Coaster\n",
      "4758860955724850976 DataCoaster 14 15 data\n",
      "4758860955724850976 DataCoaster 14 16 data coaster\n",
      "4758860955724850976 DataCoaster 14 17 data coaster !\n"
     ]
    }
   ],
   "source": [
    "for matches_id,start,end in found_match:\n",
    "    string_id = nlp.vocab.strings[matches_id] #for readable format\n",
    "    span = doc[start:end] #int (id)form\n",
    "    print(matches_id,string_id,start,end,span.text)\n",
    "    "
   ]
  },
  {
   "cell_type": "markdown",
   "metadata": {},
   "source": [
    "# - If we want to add new pattern then we have to remove oldler one"
   ]
  },
  {
   "cell_type": "code",
   "execution_count": 23,
   "metadata": {},
   "outputs": [],
   "source": [
    "#matcher.remove('DataCoaster') #removed"
   ]
  },
  {
   "cell_type": "code",
   "execution_count": 24,
   "metadata": {},
   "outputs": [],
   "source": [
    "pattern1 = [{'Lower':'datascience'}]\n",
    "pattern2 = [{'Lower':'data'},{'Lower':'science'},{'IS_PUNCT':True,'op':'?'}]"
   ]
  },
  {
   "cell_type": "code",
   "execution_count": 25,
   "metadata": {},
   "outputs": [],
   "source": [
    "matcher.add('DataScience',None,pattern1,pattern2)"
   ]
  },
  {
   "cell_type": "code",
   "execution_count": 30,
   "metadata": {},
   "outputs": [],
   "source": [
    "txt=nlp('Data Science !! is data science-')\n",
    "matching_found=matcher(txt)"
   ]
  },
  {
   "cell_type": "code",
   "execution_count": 31,
   "metadata": {},
   "outputs": [
    {
     "data": {
      "text/plain": [
       "[(2139155487204529523, 0, 2), (2139155487204529523, 0, 3)]"
      ]
     },
     "execution_count": 31,
     "metadata": {},
     "output_type": "execute_result"
    }
   ],
   "source": [
    "matching_found"
   ]
  },
  {
   "cell_type": "markdown",
   "metadata": {},
   "source": [
    "# PHRASE MATCHER"
   ]
  },
  {
   "cell_type": "markdown",
   "metadata": {},
   "source": [
    "-  The PhraseMatcher lets you efficiently match large terminology lists. While the Matcher lets you match sequences based on lists of token descriptions, the PhraseMatcher accepts match patterns in the form of Doc objects."
   ]
  },
  {
   "cell_type": "code",
   "execution_count": 13,
   "metadata": {},
   "outputs": [],
   "source": [
    "import spacy"
   ]
  },
  {
   "cell_type": "code",
   "execution_count": 16,
   "metadata": {},
   "outputs": [],
   "source": [
    "nlp = spacy.load(\"en_core_web_sm\")"
   ]
  },
  {
   "cell_type": "code",
   "execution_count": 19,
   "metadata": {},
   "outputs": [],
   "source": [
    "from spacy.matcher import PhraseMatcher"
   ]
  },
  {
   "cell_type": "code",
   "execution_count": 20,
   "metadata": {},
   "outputs": [],
   "source": [
    "matcher = PhraseMatcher(nlp.vocab)"
   ]
  },
  {
   "cell_type": "code",
   "execution_count": 21,
   "metadata": {},
   "outputs": [],
   "source": [
    "doc = nlp(\"\"\"Cricket is a bat-and-ball game played between two teams of eleven players on a field at the centre of\n",
    "            which is a 22-yard pitch with a wicket at each end, each comprising two bails balanced on three stumps. \n",
    "            The batting side scores runs by striking the ball bowled at the wicket with the bat,\n",
    "            while the bowling and fielding side tries to prevent this and dismiss each batter (so they are \"out\"). \n",
    "            Means of dismissal include being bowled, when the ball hits the stumps and dislodges the bails, \n",
    "            and by the fielding side catching the ball after it is hit by the bat, but before it hits the ground. \n",
    "            When ten batters have been dismissed, the innings ends and the teams swap roles.\"\"\")\n",
    "           "
   ]
  },
  {
   "cell_type": "code",
   "execution_count": 22,
   "metadata": {},
   "outputs": [
    {
     "data": {
      "text/plain": [
       "Cricket is a bat-and-ball game played between two teams of eleven players on a field at the centre of\n",
       "            which is a 22-yard pitch with a wicket at each end, each comprising two bails balanced on three stumps. \n",
       "            The batting side scores runs by striking the ball bowled at the wicket with the bat,\n",
       "            while the bowling and fielding side tries to prevent this and dismiss each batter (so they are \"out\"). \n",
       "            Means of dismissal include being bowled, when the ball hits the stumps and dislodges the bails, \n",
       "            and by the fielding side catching the ball after it is hit by the bat, but before it hits the ground. \n",
       "            When ten batters have been dismissed, the innings ends and the teams swap roles."
      ]
     },
     "execution_count": 22,
     "metadata": {},
     "output_type": "execute_result"
    }
   ],
   "source": [
    "doc"
   ]
  },
  {
   "cell_type": "code",
   "execution_count": 23,
   "metadata": {},
   "outputs": [],
   "source": [
    "phrase_to_find = ['bat-and-ball','22-yard pitch','three stumps','fielding side']"
   ]
  },
  {
   "cell_type": "code",
   "execution_count": 24,
   "metadata": {},
   "outputs": [],
   "source": [
    "phrase_pattern=[]"
   ]
  },
  {
   "cell_type": "code",
   "execution_count": 25,
   "metadata": {},
   "outputs": [],
   "source": [
    "for text in phrase_to_find:\n",
    "    phrase_pattern.append(nlp(text))\n",
    "    \n",
    "    "
   ]
  },
  {
   "cell_type": "code",
   "execution_count": 26,
   "metadata": {},
   "outputs": [
    {
     "data": {
      "text/plain": [
       "[bat-and-ball, 22-yard pitch, three stumps, fielding side]"
      ]
     },
     "execution_count": 26,
     "metadata": {},
     "output_type": "execute_result"
    }
   ],
   "source": [
    "phrase_pattern"
   ]
  },
  {
   "cell_type": "code",
   "execution_count": 27,
   "metadata": {},
   "outputs": [],
   "source": [
    "matcher.add('CricketPhrases',None,*phrase_pattern)"
   ]
  },
  {
   "cell_type": "code",
   "execution_count": 28,
   "metadata": {},
   "outputs": [],
   "source": [
    "match_found=matcher(doc)"
   ]
  },
  {
   "cell_type": "code",
   "execution_count": 29,
   "metadata": {},
   "outputs": [
    {
     "data": {
      "text/plain": [
       "[(4975789261877713877, 3, 8),\n",
       " (4975789261877713877, 27, 29),\n",
       " (4975789261877713877, 42, 44),\n",
       " (4975789261877713877, 68, 70),\n",
       " (4975789261877713877, 110, 112)]"
      ]
     },
     "execution_count": 29,
     "metadata": {},
     "output_type": "execute_result"
    }
   ],
   "source": [
    "match_found"
   ]
  },
  {
   "cell_type": "code",
   "execution_count": 32,
   "metadata": {},
   "outputs": [
    {
     "name": "stdout",
     "output_type": "stream",
     "text": [
      "4975789261877713877 CricketPhrases 3 8 bat-and-ball\n",
      "4975789261877713877 CricketPhrases 27 29 22-yard pitch\n",
      "4975789261877713877 CricketPhrases 42 44 three stumps\n",
      "4975789261877713877 CricketPhrases 68 70 fielding side\n",
      "4975789261877713877 CricketPhrases 110 112 fielding side\n"
     ]
    }
   ],
   "source": [
    "for matches_id,start,end in match_found:\n",
    "    string_id=nlp.vocab.strings[matches_id]\n",
    "    span = doc[start:end]\n",
    "    print(matches_id,string_id,start,end,span.text)\n",
    "    "
   ]
  },
  {
   "cell_type": "code",
   "execution_count": 33,
   "metadata": {},
   "outputs": [
    {
     "name": "stdout",
     "output_type": "stream",
     "text": [
      "4975789261877713877 CricketPhrases 3 8 \n",
      "4975789261877713877 CricketPhrases 27 29 \n",
      "            which is a 22-yard pitch with a wicket at each\n",
      "4975789261877713877 CricketPhrases 42 44 two bails balanced on three stumps. \n",
      "            The batting side\n",
      "4975789261877713877 CricketPhrases 68 70 while the bowling and fielding side tries to prevent this and\n",
      "4975789261877713877 CricketPhrases 110 112 \n",
      "            and by the fielding side catching the ball after it\n"
     ]
    }
   ],
   "source": [
    "for matches_id,start,end in match_found:\n",
    "    string_id=nlp.vocab.strings[matches_id]\n",
    "    span = doc[start-4:end+5]\n",
    "    print(matches_id,string_id,start,end,span.text)"
   ]
  }
 ],
 "metadata": {
  "kernelspec": {
   "display_name": "Python 3",
   "language": "python",
   "name": "python3"
  },
  "language_info": {
   "codemirror_mode": {
    "name": "ipython",
    "version": 3
   },
   "file_extension": ".py",
   "mimetype": "text/x-python",
   "name": "python",
   "nbconvert_exporter": "python",
   "pygments_lexer": "ipython3",
   "version": "3.7.6"
  }
 },
 "nbformat": 4,
 "nbformat_minor": 4
}
